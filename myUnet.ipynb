{
 "metadata": {
  "language_info": {
   "codemirror_mode": {
    "name": "ipython",
    "version": 3
   },
   "file_extension": ".py",
   "mimetype": "text/x-python",
   "name": "python",
   "nbconvert_exporter": "python",
   "pygments_lexer": "ipython3",
   "version": "3.8.6-final"
  },
  "orig_nbformat": 2,
  "kernelspec": {
   "name": "python38364bit228bac570c28473b8a1d2e4f04989512",
   "display_name": "Python 3.8.3 64-bit"
  }
 },
 "nbformat": 4,
 "nbformat_minor": 2,
 "cells": [
  {
   "source": [
    "## 准备数据\n",
    "- 基本数据-原图 data\\stone\\raw\\image\\\\*.png\n",
    "- 基本数据-标签 data\\stone\\raw\\label\\\\*.png\n",
    "- 基本数据-测试 data\\stone\\raw\\test\\\\*.png\n"
   ],
   "cell_type": "markdown",
   "metadata": {}
  },
  {
   "source": [
    "## 路径设置\n"
   ],
   "cell_type": "markdown",
   "metadata": {}
  },
  {
   "cell_type": "code",
   "execution_count": null,
   "metadata": {},
   "outputs": [],
   "source": [
    "import os\n",
    "import cv2\n",
    "\n",
    "abspath = os.path.abspath('.')\n",
    "\n",
    "raw_image_path = os.path.join(abspath, 'data', 'stone', 'raw', 'image')\n",
    "raw_label_path = os.path.join(abspath, 'data', 'stone', 'raw', 'label')\n",
    "raw_test_path  = os.path.join(abspath, 'data', 'stone', 'raw', 'test')\n",
    "\n",
    "gray_path       = os.path.join(abspath, 'data', 'stone', 'gray')\n",
    "gray_image_path = os.path.join(abspath, 'data', 'stone', 'gray', 'image')\n",
    "gray_label_path = os.path.join(abspath, 'data', 'stone', 'gray', 'label')\n",
    "\n",
    "train_path = os.path.join(abspath, 'data', 'stone', 'train')\n",
    "train_image_path = os.path.join(train_path, 'image')\n",
    "train_label_path = os.path.join(train_path, 'label')\n",
    "\n",
    "test_image_path = os.path.join(abspath, 'data', 'stone', 'test', 'image')\n",
    "test_label_path = os.path.join(abspath, 'data', 'stone', 'test', 'label')\n",
    "\n",
    "all_path = [raw_image_path, raw_label_path, \n",
    "            gray_path, gray_image_path, gray_label_path, \n",
    "            train_path, train_image_path, train_label_path,\n",
    "            test_image_path, test_label_path]\n",
    "\n",
    "for path in all_path:\n",
    "    if os.path.exists(path):\n",
    "        pass\n",
    "    else:\n",
    "        os.makedirs(path)\n"
   ]
  },
  {
   "source": [
    "## 转换为8位灰度图"
   ],
   "cell_type": "markdown",
   "metadata": {}
  },
  {
   "cell_type": "code",
   "execution_count": null,
   "metadata": {},
   "outputs": [],
   "source": [
    "def color_to_gray(path_src, path_dst):\n",
    "    for root, dirs, files in os.walk(path_src):\n",
    "        for file_name in files:\n",
    "            file_path = os.path.join(root, file_name)\n",
    "            img = cv2.imread(file_path, cv2.IMREAD_GRAYSCALE)\n",
    "            new_file_path = os.path.join(path_dst, file_name)\n",
    "            cv2.imwrite(new_file_path, img)\n",
    "\n",
    "color_to_gray(raw_image_path, gray_image_path)\n",
    "color_to_gray(raw_label_path, gray_label_path)\n",
    "color_to_gray(raw_test_path, test_image_path)"
   ]
  },
  {
   "source": [
    "## 数据增强，生成数据存放在 train_path"
   ],
   "cell_type": "markdown",
   "metadata": {}
  },
  {
   "cell_type": "code",
   "execution_count": null,
   "metadata": {},
   "outputs": [],
   "source": [
    "from data import *\n",
    "\n",
    "data_gen_args = dict(rotation_range=0.2,\n",
    "                    width_shift_range=0.05,\n",
    "                    height_shift_range=0.05,\n",
    "                    shear_range=0.05,\n",
    "                    zoom_range=0.05,\n",
    "                    horizontal_flip=True,\n",
    "                    fill_mode='nearest')\n",
    "myGenerator = trainGenerator(20, gray_path, 'image', 'label', data_gen_args, save_to_dir=train_path)\n",
    "num_batch = 3\n",
    "for i,batch in enumerate(myGenerator):\n",
    "    if(i >= num_batch):\n",
    "        break"
   ]
  },
  {
   "source": [
    "## 调整训练集的位置"
   ],
   "cell_type": "markdown",
   "metadata": {}
  },
  {
   "cell_type": "code",
   "execution_count": null,
   "metadata": {},
   "outputs": [],
   "source": [
    "import shutil\n",
    "\n",
    "for file_name in os.listdir(train_path):\n",
    "    if file_name.startswith('image_'):\n",
    "        shutil.move(os.path.join(train_path, file_name), train_image_path)\n",
    "    elif file_name.startswith('mask_'):\n",
    "        shutil.move(os.path.join(train_path, file_name), train_label_path)\n",
    "    else:\n",
    "        pass\n"
   ]
  },
  {
   "source": [
    "## 开始训练"
   ],
   "cell_type": "markdown",
   "metadata": {}
  },
  {
   "cell_type": "code",
   "execution_count": null,
   "metadata": {},
   "outputs": [],
   "source": [
    "from model import *\n",
    "from data import *\n"
   ]
  },
  {
   "cell_type": "code",
   "execution_count": null,
   "metadata": {},
   "outputs": [],
   "source": [
    "data_gen_args = dict(rotation_range=0.2,\n",
    "                    width_shift_range=0.05,\n",
    "                    height_shift_range=0.05,\n",
    "                    shear_range=0.05,\n",
    "                    zoom_range=0.05,\n",
    "                    horizontal_flip=True,\n",
    "                    fill_mode='nearest')\n",
    "myGene = trainGenerator(2, train_path, 'image', 'label', data_gen_args, save_to_dir = None)\n",
    "model = unet()\n",
    "model_checkpoint = ModelCheckpoint('unet_membrane.hdf5', monitor='loss',verbose=1, save_best_only=True)\n"
   ]
  },
  {
   "cell_type": "code",
   "execution_count": null,
   "metadata": {},
   "outputs": [],
   "source": [
    "model.fit_generator(myGene,steps_per_epoch=2000,epochs=5,callbacks=[model_checkpoint])"
   ]
  },
  {
   "source": [
    "## Train with npy file"
   ],
   "cell_type": "markdown",
   "metadata": {}
  },
  {
   "cell_type": "code",
   "execution_count": null,
   "metadata": {},
   "outputs": [],
   "source": [
    "#imgs_train,imgs_mask_train = geneTrainNpy(\"data/membrane/train/aug/\",\"data/membrane/train/aug/\")\n",
    "#model.fit(imgs_train, imgs_mask_train, batch_size=2, nb_epoch=10, verbose=1,validation_split=0.2, shuffle=True, callbacks=[model_checkpoint])"
   ]
  },
  {
   "source": [
    "## test your model and save predicted results"
   ],
   "cell_type": "markdown",
   "metadata": {}
  },
  {
   "cell_type": "code",
   "execution_count": null,
   "metadata": {},
   "outputs": [],
   "source": [
    "testGene = testGenerator(\"data/membrane/test\")\n",
    "model = unet()\n",
    "model.load_weights(\"unet_membrane.hdf5\")\n",
    "results = model.predict_generator(testGene,30,verbose=1)\n",
    "saveResult(\"data/membrane/test\",results)"
   ]
  }
 ]
}